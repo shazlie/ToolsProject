{
 "cells": [
  {
   "cell_type": "markdown",
   "metadata": {},
   "source": [
    "## Sentiment Analysis of Lyrics of Billboard Top 100 Songs from 1965-2015"
   ]
  },
  {
   "cell_type": "code",
   "execution_count": 1,
   "metadata": {},
   "outputs": [],
   "source": [
    "import nltk\n",
    "import pandas as pd\n",
    "import numpy as np"
   ]
  },
  {
   "cell_type": "code",
   "execution_count": 5,
   "metadata": {},
   "outputs": [],
   "source": [
    "df = pd.read_csv(\"billboard_lyrics_1964-2015.csv\", encoding = \"ISO-8859-1\")\n",
    "df[\"Lyrics\"] = df[\"Lyrics\"].apply(lambda x: str(x))"
   ]
  },
  {
   "cell_type": "code",
   "execution_count": 19,
   "metadata": {},
   "outputs": [],
   "source": [
    " df=df.dropna(subset=[\"Lyrics\"])  "
   ]
  },
  {
   "cell_type": "markdown",
   "metadata": {},
   "source": [
    "### Get List of Positive and Negative Words from ptrckprry.com"
   ]
  },
  {
   "cell_type": "code",
   "execution_count": 7,
   "metadata": {},
   "outputs": [],
   "source": [
    "def get_pos_neg_words():\n",
    "    def get_words(url):\n",
    "        import requests\n",
    "        words = requests.get(url).content.decode('latin-1')\n",
    "        word_list = words.split('\\n')\n",
    "        index = 0\n",
    "        while index < len(word_list):\n",
    "            word = word_list[index]\n",
    "            if ';' in word or not word:\n",
    "                word_list.pop(index)\n",
    "            else:\n",
    "                index+=1\n",
    "        return word_list\n",
    "\n",
    "    #Get lists of positive and negative words\n",
    "    p_url = 'http://ptrckprry.com/course/ssd/data/positive-words.txt'\n",
    "    n_url = 'http://ptrckprry.com/course/ssd/data/negative-words.txt'\n",
    "    positive_words = get_words(p_url)\n",
    "    negative_words = get_words(n_url)\n",
    "    return positive_words,negative_words\n",
    "\n",
    "positive_words,negative_words = get_pos_neg_words()"
   ]
  },
  {
   "cell_type": "markdown",
   "metadata": {},
   "source": [
    "### Create function to compute sentiment"
   ]
  },
  {
   "cell_type": "code",
   "execution_count": 23,
   "metadata": {},
   "outputs": [],
   "source": [
    "def do_pos_neg_sentiment_analysis(text_list,debug=False):\n",
    "    positive_words,negative_words = get_pos_neg_words()\n",
    "    from nltk import word_tokenize\n",
    "    results = list()\n",
    "    for text in text_list:\n",
    "        cpos = cneg = lpos = lneg = 0\n",
    "        for word in word_tokenize(text[1]):\n",
    "            if word in positive_words:\n",
    "                if debug:\n",
    "                    print(\"Positive\",word)\n",
    "                cpos+=1\n",
    "            if word in negative_words:\n",
    "                if debug:\n",
    "                    print(\"Negative\",word)\n",
    "                cneg+=1\n",
    "        try:\n",
    "            results.append((text[0],((cpos/len(word_tokenize(text[1])))+(cneg/len(word_tokenize(text[1]))))/2))\n",
    "        except:\n",
    "            pass\n",
    "    return results\n",
    "\n",
    "# do_pos_neg_sentiment_analysis([(Year,dec1)])"
   ]
  },
  {
   "cell_type": "code",
   "execution_count": 39,
   "metadata": {},
   "outputs": [],
   "source": [
    "sentiment_list = []\n",
    "for year in range(1965, 2016):\n",
    "    lyrics =  df[df[\"Year\"]==year][\"Lyrics\"].values\n",
    "    lyrics = ' '.join(lyrics)\n",
    "    sentiment =do_pos_neg_sentiment_analysis([(year,lyrics)])\n",
    "    sentiment_list.append(sentiment)                   "
   ]
  },
  {
   "cell_type": "code",
   "execution_count": 40,
   "metadata": {},
   "outputs": [],
   "source": [
    "final_list=[]\n",
    "for i in range(len(sentiment_list)):\n",
    "    year, sentiment =sentiment_list[i][0]\n",
    "    final_list.append((year,sentiment))"
   ]
  },
  {
   "cell_type": "code",
   "execution_count": 42,
   "metadata": {},
   "outputs": [],
   "source": [
    "sentiment_df = pd.DataFrame(final_list)"
   ]
  },
  {
   "cell_type": "code",
   "execution_count": 44,
   "metadata": {},
   "outputs": [],
   "source": [
    "sentiment_df.columns = [\"Year\", \"Average_Sentiment\"]"
   ]
  },
  {
   "cell_type": "markdown",
   "metadata": {},
   "source": [
    "### Plot Average Sentiment By Year"
   ]
  },
  {
   "cell_type": "code",
   "execution_count": 45,
   "metadata": {},
   "outputs": [
    {
     "data": {
      "image/png": "[encoded data removed]",
      "text/plain": [
       "<Figure size 432x288 with 1 Axes>"
      ]
     },
     "metadata": {},
     "output_type": "display_data"
    }
   ],
   "source": [
    "%matplotlib inline \n",
    "import matplotlib.pyplot as plt\n",
    "\n",
    "plt.plot(sentiment_df.Year, sentiment_df.Average_Sentiment, label='linear')\n",
    "plt.title(\"Sentiment of Popular Music between 1965-2015\")\n",
    "plt.show()"
   ]
  },
  {
   "cell_type": "code",
   "execution_count": null,
   "metadata": {},
   "outputs": [],
   "source": []
  }
 ],
 "metadata": {
  "kernelspec": {
   "display_name": "Python 3",
   "language": "python",
   "name": "python3"
  },
  "language_info": {
   "codemirror_mode": {
    "name": "ipython",
    "version": 3
   },
   "file_extension": ".py",
   "mimetype": "text/x-python",
   "name": "python",
   "nbconvert_exporter": "python",
   "pygments_lexer": "ipython3",
   "version": "3.6.5"
  }
 },
 "nbformat": 4,
 "nbformat_minor": 2
}
